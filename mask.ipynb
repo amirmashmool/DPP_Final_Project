{
 "cells": [
  {
   "attachments": {},
   "cell_type": "markdown",
   "metadata": {},
   "source": [
    "Maintaining Data Privacy in Association Rule Mining using MASK algorithm \n",
    "\n",
    "By\n",
    "Salah Ismail , matricola: 5239380\n",
    "Amir Mashmool, matricola: 5245307\n",
    "Kozy-Korpesh Tolep, matricola: 5302354  "
   ]
  },
  {
   "attachments": {},
   "cell_type": "markdown",
   "metadata": {},
   "source": [
    "Background\n",
    "\n",
    "This paper discusses the challenge of obtaining accurate input data for data mining services while addressing privacy concerns. It explores whether users can be motivated to provide correct information by guaranteeing privacy protection during the mining process. proposing a scheme that distorts user data probabilistically, ensuring a high level of privacy while maintaining accurate mining results. The performance of the scheme is validated using real and synthetic datasets."
   ]
  },
  {
   "attachments": {},
   "cell_type": "markdown",
   "metadata": {},
   "source": [
    "Dataset \n",
    "\n",
    "The paper assumes a database model where each customer's data is represented as a tuple consisting of a fixed-length sequence of 1's and 0's. This model is commonly used for market-basket databases, where columns represent items sold by a supermarket, and each row represents a customer's purchases (1 indicating a purchase and 0 indicating no purchase).\n",
    "\n",
    "The assumption is that the number of 1's (purchases) in the database is significantly smaller than the number of 0's (non-purchases) ==> In short, the database is modeled as a large disk-resident two-dimensional sparse boolean matrix."
   ]
  },
  {
   "attachments": {},
   "cell_type": "markdown",
   "metadata": {},
   "source": [
"Association rule mining \n",
    "\n",
Association rule mining is a data mining technique that aims to discover interesting relationships or patterns within large datasets. It identifies associations or correlations between different items or events based on their co-occurrence in a given dataset. These associations are often represented as rules in the form of "If X, then Y," where X and Y are sets of items.

Let's consider a simple example to illustrate association rule mining. Suppose you have a transaction dataset from a grocery store that contains information about customer purchases. Each transaction consists of a set of items that a customer bought during a single visit to the store.

Here is a sample transaction dataset:

Transaction 1: {Bread, Milk, Eggs}
Transaction 2: {Bread, Diapers}
Transaction 3: {Milk, Diapers}
Transaction 4: {Bread, Milk, Diapers}
Transaction 5: {Bread, Milk}

From this dataset, we can apply association rule mining to discover interesting relationships between items. One commonly used measure in association rule mining is supported, which calculates the frequency of a particular item set or rules in the dataset.
Let's assume we want to find association rules with a minimum support of 40% and a minimum confidence of 60%. 

Support: The support of an itemset is calculated as the ratio of transactions containing the itemset to the total number of transactions.
Confidence: The confidence of an association rule is calculated as the ratio of the number of transactions containing both the antecedent and consequent of the rule to the number of transactions containing only the antecedent.

Using these measures, we can discover association rules:

1. Bread → Milk (Support: 40%, Confidence: 66.6%)
   This rule indicates that if a customer buys bread, they are likely to buy milk as well.

2. Milk → Bread (Support: 40%, Confidence: 80%)
   This rule suggests that if a customer buys milk, they are likely to buy bread as well.

3. Diapers → Bread (Support: 40%, Confidence: 66.6%)
   This rule implies that if a customer buys diapers, they are likely to buy bread as well.

4. Bread, Milk → Diapers (Support: 40%, Confidence: 50%)
   This rule states that if a customer buys both bread and milk, they are likely to buy diapers as well.

These are just a few examples of the association rules that can be derived from the transaction dataset using association rule mining techniques. The support and confidence thresholds can be adjusted based on specific requirements and domain knowledge.

Association rule mining is widely used in various fields, such as market basket analysis, customer behavior analysis, recommendation systems, and more.

   ]
  },
  {
   "attachments": {},
   "cell_type": "markdown",
   "metadata": {},
   "source": []
  }
 ],
 "metadata": {
  "language_info": {
   "name": "python"
  },
  "orig_nbformat": 4
 },
 "nbformat": 4,
 "nbformat_minor": 2
}
