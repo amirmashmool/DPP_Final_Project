{
 "cells": [
  {
   "attachments": {},
   "cell_type": "markdown",
   "metadata": {},
   "source": [
    "Maintaining Data Privacy in Association Rule Mining using MASK algorithm \n",
    "\n",
    "By\n",
    "Salah Ismail , matricola: 5239380\n",
    "Amir Mashmool, matricola: 5245307\n",
    "Kozy-Korpesh Tolep, matricola: 5302354  "
   ]
  },
  {
   "attachments": {},
   "cell_type": "markdown",
   "metadata": {},
   "source": []
  }
 ],
 "metadata": {
  "language_info": {
   "name": "python"
  },
  "orig_nbformat": 4
 },
 "nbformat": 4,
 "nbformat_minor": 2
}
